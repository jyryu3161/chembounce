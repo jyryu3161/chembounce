{
  "cells": [
    {
      "cell_type": "markdown",
      "metadata": {
        "id": "view-in-github"
      },
      "source": [
        "<a href=\"https://colab.research.google.com/github/jyryu3161/chembounce/blob/main/chembounce_colab.ipynb\" target=\"_parent\"><img src=\"https://colab.research.google.com/assets/colab-badge.svg\" alt=\"Open In Colab\"/></a>"
      ]
    },
    {
      "cell_type": "code",
      "execution_count": null,
      "metadata": {},
      "outputs": [],
      "source": []
    },
    {
      "cell_type": "code",
      "execution_count": 1,
      "metadata": {
        "cellView": "form",
        "colab": {
          "base_uri": "https://localhost:8080/"
        },
        "collapsed": true,
        "id": "WYfp-UjX5UH3",
        "outputId": "e332459a-e710-4118-ad44-e24fd0a37b20"
      },
      "outputs": [
        {
          "data": {
            "text/plain": [
              "0"
            ]
          },
          "execution_count": 1,
          "metadata": {},
          "output_type": "execute_result"
        }
      ],
      "source": [
        "#@title Anaconda installation\n",
        "# Conda installation\n",
        "import os\n",
        "conda_loc = \"/usr/local\"\n",
        "os.system(\"wget https://repo.anaconda.com/archive/Anaconda3-2024.02-1-Linux-x86_64.sh\")\n",
        "os.system(\"chmod +x Anaconda3-2024.02-1-Linux-x86_64.sh\")\n",
        "os.system(f\"bash ./Anaconda3-2024.02-1-Linux-x86_64.sh -b -f -p {conda_loc}\")"
      ]
    },
    {
      "cell_type": "code",
      "execution_count": 2,
      "metadata": {
        "cellView": "form",
        "colab": {
          "base_uri": "https://localhost:8080/"
        },
        "id": "Mr9kZRV4-5h8",
        "outputId": "264e77cf-160a-4fd8-f0c1-232e1e3da965"
      },
      "outputs": [
        {
          "name": "stdout",
          "output_type": "stream",
          "text": [
            "Downloading data...\n"
          ]
        }
      ],
      "source": [
        "#@title Environment setting for Chembounce\n",
        "#@markdown This process takes apprx. 3mins\n",
        "import os\n",
        "import sys\n",
        "# git clone\n",
        "git_plf_n = 'chembounce'\n",
        "if not os.path.isdir(git_plf_n) and os.path.split(os.getcwd())[1] != git_plf_n:\n",
        "    print(\"Downloading git repository...\")\n",
        "    !git clone https://github.com/jyryu3161/chembounce.git\n",
        "if os.path.split(os.getcwd())[1] != git_plf_n:\n",
        "    os.chdir(git_plf_n)\n",
        "sys.path.append(os.path.abspath(\"./\"))\n",
        "# environment setting\n",
        "if not os.path.isfile(f'{conda_loc}/envs/chembounce/bin/python'):\n",
        "    print(\"Installing package dependencies...\")\n",
        "    os.system(f\"{conda_loc}/bin/conda env create -n chembounce -f ./environment.yml --quiet -y\")\n",
        "# !pip3 install -q --no-warn-conflicts scaffoldgraph==1.1.2 rdkit==2020.09.5 scipy pandas numpy oddt pubchempy molvs\n",
        "\n",
        "# Dataset\n",
        "data_installed=False\n",
        "if os.path.isdir('./data'):\n",
        "    if len(set(os.listdir('./data')) & set(['fragment_data.pickle','Scaffolds_processed.txt']))==2:\n",
        "        data_installed = True\n",
        "if not data_installed:\n",
        "    print(\"Downloading data...\")\n",
        "    os.system('bash install.sh')\n",
        "    #os.system('unzip ./data/Scaffolds_processed.zip')\n",
        "from google.colab import files\n",
        "import math\n",
        "import datetime\n",
        "\n",
        "# pre-defined default settings\n",
        "lipinski=True\n",
        "fragments=[]\n",
        "replace_scaffold_files=[]"
      ]
    },
    {
      "cell_type": "code",
      "execution_count": 3,
      "metadata": {
        "cellView": "form",
        "colab": {
          "base_uri": "https://localhost:8080/"
        },
        "id": "wROdpqgflhZn",
        "outputId": "e29d842b-a5ef-48ed-fc0c-3e1f7d32c281"
      },
      "outputs": [
        {
          "name": "stdout",
          "output_type": "stream",
          "text": [
            "Input SMILES\t:COC1=C(C=C2C(=C1)N=CN=C2NC3=CC(=C(C=C3)F)Cl)OCCCN4CCOCC4 \n",
            "Core SMILES\t: \n",
            "Tanimoto threshold\t:0.5 \n",
            "Top fragments\t:100 \n",
            "Lipinski's rule of five\t:True \n",
            "Output location\t:/content/chembounce/output_Gefitinib\n"
          ]
        }
      ],
      "source": [
        "#@title Basic input parameters {run:'auto'}\n",
        "#@markdown ##Structures\n",
        "#@markdown ####input_SMILES\n",
        "#@markdown #####Input SMILES, the target molecular structure\n",
        "# imatinib: CC1=C(C=C(C=C1)NC(=O)C2=CC=C(C=C2)CN3CCN(CC3)C)NC4=NC=CC(=N4)C5=CN=CC=C5\n",
        "# Gefitinib: COC1=C(C=C2C(=C1)N=CN=C2NC3=CC(=C(C=C3)F)Cl)OCCCN4CCOCC4\n",
        "# Losartan: CCCCC1=NC(=C(N1CC2=CC=C(C=C2)C3=CC=CC=C3C4=NNN=N4)CO)Cl\n",
        "input_smiles=\"COC1=C(C=C2C(=C1)N=CN=C2NC3=CC(=C(C=C3)F)Cl)OCCCN4CCOCC4\" #@param {type:'string'}\n",
        "\n",
        "#@markdown ####core_smiles (optional)\n",
        "#@markdown #####(Optional) Core SMILES which should not be altered while scaffold hopping\n",
        "core_smiles=\"\" #@param {type:'string'}\n",
        "\n",
        "#@markdown ##Parameters\n",
        "#@markdown ####frag_max_n\n",
        "#@markdown #####Maximal number of scaffold-hopped candidates for a fragment\n",
        "frag_max_n=100 #@param {type:'integer'}\n",
        "\n",
        "#@markdown ####tanimoto_threshold\n",
        "#@markdown #####Tanimoto similarity threshold, between 0 and 1: used to exclude irrelated molecular structure, based on the similarity between the original structure and scaffold-hopped one. Default is 0.5\n",
        "tanimoto_threshold=0.5 #@param {type:'slider',min:0.0, max:1.0, step:0.01}\n",
        "\n",
        "#@markdown ####output_dir\n",
        "#@markdown #####Output location\n",
        "output_dir = './output_Gefitinib' #@param {type:'string'}\n",
        "\n",
        "#@markdown #### Lipinski's rule of Five\n",
        "#@markdown ##### Application of Lipinski\\'s rule of five :\n",
        "#@markdown ##### logp_max=5, qed_max=500, h_donor_max=5, h_acceptor_max=10\n",
        "lipinski=True #@param {type:'boolean'}\n",
        "\n",
        "os.makedirs(output_dir,exist_ok=True)\n",
        "if os.path.isfile(os.path.join(output_dir,'result.txt')):\n",
        "    print('Warning: A result file already exists')\n",
        "print(\n",
        "    f\"Input SMILES\\t:{input_smiles}\",\n",
        "    f\"\\nCore SMILES\\t:{core_smiles}\",\n",
        "    f\"\\nTanimoto threshold\\t:{tanimoto_threshold}\",\n",
        "    f\"\\nTop fragments\\t:{frag_max_n}\",\n",
        "    f\"\\nLipinski\\'s rule of five\\t:{lipinski}\",\n",
        "    f\"\\nOutput location\\t:{os.path.abspath(output_dir)}\"\n",
        ")"
      ]
    },
    {
      "cell_type": "markdown",
      "metadata": {
        "id": "YWVpF4H5GMdU"
      },
      "source": [
        "## Optional parameters\n",
        "To apply optional parameters, run the corresponding cells below, and run the `Run` cell\n",
        "\n",
        "### Custum library\n",
        "#####In case to use custom library for hopping, check the box `use_custom_library`, upload a file of SMILES and specify the file name `custom_lib_file_name`.\n",
        "\n",
        "### Limit maximal iteration and number of candidates\n",
        "#####Other than `frag_max_n`, which limits the number of scaffold-hopped candidates for a fragment, there are several options.\n",
        "- `overall_max_n`: Maximal number of scaffold-hopped candidates for the whole fragments\n",
        "- `scaffold_top_n`: Number of scaffolds to test for a fragment.\n",
        "- `cand_max_n__rplc`: Maximal number of candidates for a replaced scaffold\n",
        "\n",
        "### Threshold options\n",
        "##### Min/max for QED, SAscore, logP, MW, number of H donors and number of H acceptors can be limited.\n",
        "\n",
        "### Fragments and replace scaffold structures\n",
        "- Target fragment can be defined.\n",
        "- If not imposed, `ChemBounce` will automatically look for possible fragments of the input structure.\n",
        "- Corresponding replacement structures can also be defined as file: in priority of score (the higher score, the higher priority for the candidate) in tsv format or just SMILES\n",
        "\n",
        "\n"
      ]
    },
    {
      "cell_type": "code",
      "execution_count": 4,
      "metadata": {
        "cellView": "form",
        "id": "_6Id0CaADudY"
      },
      "outputs": [],
      "source": [
        "#@title (Optional) Custom library\n",
        "#@markdown Use custom library\n",
        "use_custom_library=False #@param {type:'boolean'}\n",
        "if use_custom_library:\n",
        "    import subprocess\n",
        "    f = files.upload()\n",
        "    custom_lib_file_name = \"SOME_CUSTOM_DB.txt\" #@param {'type':'string'}\n",
        "    result = subprocess.check_output(\n",
        "        f'/usr/local/envs/chembounce/bin/python ./generate_fingerprints.py --input {custom_lib_file_name} --output {custom_lib_file_name}.npz --fp-size=2048 --radius 2 --batch-size 10000 --verify',shell=True)"
      ]
    },
    {
      "cell_type": "code",
      "execution_count": 5,
      "metadata": {
        "cellView": "form",
        "colab": {
          "base_uri": "https://localhost:8080/"
        },
        "id": "oczmssk0HlUh",
        "outputId": "bf17a6ce-5882-45bc-faf9-8564f2f73638"
      },
      "outputs": [
        {
          "name": "stdout",
          "output_type": "stream",
          "text": [
            "overall_max_n\t:None \n",
            "frag_max_n:\t100 \n",
            "scaffold_top_n\t:None \n",
            "cand_max_n__rplc\t:10\n"
          ]
        }
      ],
      "source": [
        "#@title (Optional) Maximal iteration and number of candidates {run:'auto'}\n",
        "#@markdown ####overall_max_n\n",
        "#@markdown #####Maximal number of scaffold-hopped candidates for overall fragments\n",
        "overall_max_n = None #@param {type:'integer'}\n",
        "\n",
        "#@markdown ####scaffold_top_n\n",
        "#@markdown #####Number of scaffolds to test for a fragment\n",
        "scaffold_top_n = None #@param {type:'integer'}\n",
        "\n",
        "#@markdown ####cand_max_n__rplc\n",
        "#@markdown #####Maximal number of candidates for a replaced scaffold\n",
        "cand_max_n__rplc=10 #@param {type:'integer'}\n",
        "\n",
        "_cnt_opt_cmd_ = \"\"\n",
        "for i in ['overall_max_n','scaffold_top_n','cand_max_n__rplc']:\n",
        "    if type(eval(i)) not in [float,int]:\n",
        "        continue\n",
        "    elif math.isnan(eval(i)):\n",
        "        continue\n",
        "    else:\n",
        "        _cnt_opt_cmd_ += f\" --{i} {eval(i)} \"\n",
        "\n",
        "print(\n",
        "    f\"overall_max_n\\t:{overall_max_n}\",\n",
        "    f\"\\nfrag_max_n:\\t{frag_max_n}\",\n",
        "    f\"\\nscaffold_top_n\\t:{scaffold_top_n}\",\n",
        "    f\"\\ncand_max_n__rplc\\t:{cand_max_n__rplc}\",\n",
        ")"
      ]
    },
    {
      "cell_type": "code",
      "execution_count": 6,
      "metadata": {
        "cellView": "form",
        "colab": {
          "base_uri": "https://localhost:8080/"
        },
        "id": "1R0baLgB1cYB",
        "outputId": "de2f9d30-52cc-43ba-facc-09620034da54"
      },
      "outputs": [
        {
          "name": "stdout",
          "output_type": "stream",
          "text": [
            "Lipinski : True\n",
            "Threshold options:\n",
            "None defined\n"
          ]
        }
      ],
      "source": [
        "#@title (Optional) Threshold options {run:'auto'}\n",
        "\n",
        "#@markdown #### Molecular properties\n",
        "#@markdown ##### Min/max for QED, SAscore, logP, MW, number of H donors and number of H acceptors\n",
        "#@markdown ##### User-defined options take precedence over Lipinski's rule.\n",
        "qed_min=None #@param {type:'number'}\n",
        "qed_max=None #@param {type:'number'}\n",
        "sa_min=None #@param {type:'number'}\n",
        "sa_max=None #@param {type:'number'}\n",
        "logp_min=None #@param {type:'number'}\n",
        "logp_max=None #@param {type:'number'}\n",
        "mw_min=None #@param {type:'number'}\n",
        "mw_max=None #@param {type:'number'}\n",
        "h_donor_min=None #@param {type:'number'}\n",
        "h_donor_max=None #@param {type:'number'}\n",
        "h_acceptor_min=None #@param {type:'number'}\n",
        "h_acceptor_max=None #@param {type:'number'}\n",
        "\n",
        "print(f'Lipinski : {lipinski}')\n",
        "_thr_opt_cmd_ = \"\"\n",
        "# Threshold\n",
        "print(f'Threshold options:')\n",
        "for i in ['qed_min','qed_max','sa_min','sa_max','logp_min','logp_max','mw_min','mw_max','h_donor_min','h_donor_max','h_acceptor_min','h_acceptor_max']:\n",
        "    if type(eval(i)) in [float,int]:\n",
        "        if not math.isnan(eval(i)):\n",
        "            _thr_opt_cmd_ += f\" --{i} {eval(i)} \"\n",
        "            print(f\"{i}\\t:{eval(i)}\")\n",
        "if not _thr_opt_cmd_:\n",
        "    print('None defined')"
      ]
    },
    {
      "cell_type": "code",
      "execution_count": 7,
      "metadata": {
        "cellView": "form",
        "colab": {
          "base_uri": "https://localhost:8080/"
        },
        "id": "koJ9NDolJV5S",
        "outputId": "72891178-02d0-4600-9557-69a44cdaba9a"
      },
      "outputs": [
        {
          "name": "stdout",
          "output_type": "stream",
          "text": [
            "Number of input fragments\t:0\n"
          ]
        }
      ],
      "source": [
        "#@title (Optional) Fragments and replace scaffolds {run:'auto'}\n",
        "#@markdown ### Note: for multiple fragments and its corresponding replace scaffolds, multiplicate this cell and run\n",
        "\n",
        "#@markdown ####Fragment SMILES\n",
        "#@markdown #####Fragment SMILES, the substructure of the target molecular structure. For multiple SMILES, delimit with comma ,\n",
        "fragment_smiles=\"\" #@param {type:'string'}\n",
        "fragments=fragment_smiles.split(',')\n",
        "#@markdown ####Repalce scaffold SMILES\n",
        "#@markdown #####Files for repalce scaffold SMILES. Uploaded file for the list of replace mol. For multiple SMILES, delimit with comma ,. If there is not a list file for a matched fragment, empty here or impose nothing between commas(for multiplce files)\n",
        "replace_scaffold_file=\"\" #@param {type:'string'}\n",
        "\n",
        "if not replace_scaffold_file:\n",
        "    _tmp_f_=[]\n",
        "else:\n",
        "    _tmp_f_ = replace_scaffold_file.split(',')\n",
        "replace_scaffold_files = []\n",
        "while '' in fragments:\n",
        "    fragments.remove('')\n",
        "for _f in _tmp_f_:\n",
        "    if _f and os.path.isfile(_f):\n",
        "        replace_scaffold_files.append(_f)\n",
        "    else:\n",
        "        replace_scaffold_files.append('')\n",
        "\n",
        "if len(fragments) != len(replace_scaffold_files):\n",
        "    print(f\"Warning: number of fragments and corresponding files are not matched!\")\n",
        "else:\n",
        "    print(f\"Number of input fragments\\t:{len(fragments)}\")"
      ]
    },
    {
      "cell_type": "markdown",
      "metadata": {
        "id": "ugzcJEYDyFE8"
      },
      "source": [
        "#Run"
      ]
    },
    {
      "cell_type": "code",
      "execution_count": 8,
      "metadata": {
        "cellView": "form",
        "colab": {
          "base_uri": "https://localhost:8080/",
          "height": 184
        },
        "id": "lMJqFHCBmfIm",
        "outputId": "ee299134-4902-49f9-daf4-86483b8f59db"
      },
      "outputs": [
        {
          "name": "stdout",
          "output_type": "stream",
          "text": [
            "Input SMILES\t:COC1=C(C=C2C(=C1)N=CN=C2NC3=CC(=C(C=C3)F)Cl)OCCCN4CCOCC4 Core SMILES\t: \n",
            "Threshold\t:0.5 \n",
            "Number of maximal candidates for a fragments\t:100 \n",
            "Output location\t:/content/chembounce/output_Gefitinib\n",
            "Started:\t 2025-08-05 12:02:13.181563\n",
            "/usr/local/envs/chembounce/bin/python chembounce.py  -o /content/chembounce/output_Gefitinib -i \"COC1=C(C=C2C(=C1)N=CN=C2NC3=CC(=C(C=C3)F)Cl)OCCCN4CCOCC4\"  --tanimoto_threshold 0.5  --frag_max_n 100  --cand_max_n__rplc 10 \n",
            "Finished:\t 2025-08-05 12:06:06.766876\n",
            "Time cose:\t 0:03:53.585313\n"
          ]
        },
        {
          "data": {
            "application/javascript": "\n    async function download(id, filename, size) {\n      if (!google.colab.kernel.accessAllowed) {\n        return;\n      }\n      const div = document.createElement('div');\n      const label = document.createElement('label');\n      label.textContent = `Downloading \"${filename}\": `;\n      div.appendChild(label);\n      const progress = document.createElement('progress');\n      progress.max = size;\n      div.appendChild(progress);\n      document.body.appendChild(div);\n\n      const buffers = [];\n      let downloaded = 0;\n\n      const channel = await google.colab.kernel.comms.open(id);\n      // Send a message to notify the kernel that we're ready.\n      channel.send({})\n\n      for await (const message of channel.messages) {\n        // Send a message to notify the kernel that we're ready.\n        channel.send({})\n        if (message.buffers) {\n          for (const buffer of message.buffers) {\n            buffers.push(buffer);\n            downloaded += buffer.byteLength;\n            progress.value = downloaded;\n          }\n        }\n      }\n      const blob = new Blob(buffers, {type: 'application/binary'});\n      const a = document.createElement('a');\n      a.href = window.URL.createObjectURL(blob);\n      a.download = filename;\n      div.appendChild(a);\n      a.click();\n      div.remove();\n    }\n  ",
            "text/plain": [
              "<IPython.core.display.Javascript object>"
            ]
          },
          "metadata": {},
          "output_type": "display_data"
        },
        {
          "data": {
            "application/javascript": "download(\"download_a44d3b5b-07d9-472a-87ab-2c5014f55b93\", \"output_Gefitinib.tar.gz\", 102384)",
            "text/plain": [
              "<IPython.core.display.Javascript object>"
            ]
          },
          "metadata": {},
          "output_type": "display_data"
        }
      ],
      "source": [
        "#@title Run\n",
        "#@markdown Once this process is finished, the result will be downloaded : OUTPUT_DIR.tar.gz\n",
        "\n",
        "#@markdown For a test run, Gefitinib took approximately 4 mins with the default parameters.\n",
        "print(\n",
        "    f\"Input SMILES\\t:{input_smiles}\",\n",
        "    f\"Core SMILES\\t:{core_smiles}\",\n",
        "    f\"\\nThreshold\\t:{tanimoto_threshold}\",\n",
        "    f\"\\nNumber of maximal candidates for a fragments\\t:{frag_max_n}\",\n",
        "    f\"\\nOutput location\\t:{os.path.abspath(output_dir)}\"\n",
        ")\n",
        "# command line - defaults\n",
        "cmd = f\"/usr/local/envs/chembounce/bin/python chembounce.py \"\n",
        "# IO, Tanimoto threshold, top_n\n",
        "cmd += f\" -o {os.path.abspath(output_dir)} -i \\\"{input_smiles}\\\" \"\n",
        "cmd += f\" --tanimoto_threshold {tanimoto_threshold} \"\n",
        "cmd += f\" --frag_max_n {frag_max_n} \"\n",
        "if core_smiles and core_smiles!=\"None\":\n",
        "    cmd += f\" --core_smiles \\\"{core_smiles}\\\" \"\n",
        "# Lipinski\n",
        "if not lipinski:\n",
        "    cmd += \" --wo_lipinski \"\n",
        "# command line - optionals\n",
        "# iteration cmd\n",
        "if '_cnt_opt_cmd_' in locals():\n",
        "    cmd += _cnt_opt_cmd_\n",
        "# Threshold\n",
        "if \"_thr_opt_cmd_\" in locals():\n",
        "    cmd += _thr_opt_cmd_\n",
        "\n",
        "if use_custom_library and os.path.isfile(custom_lib_file_name+'.npz'):\n",
        "    cmd += f\" --fingerprint-db {custom_lib_file_name}.npz\"\n",
        "\n",
        "# fragments and replace mols\n",
        "for frag, rplc in zip(fragments,replace_scaffold_files):\n",
        "    cmd += f\" --fragments \\\"{frag}\\\" --replace_scaffold_file \\\"{rplc}\\\" \"\n",
        "\n",
        "# Process\n",
        "start = datetime.datetime.now()\n",
        "print(\"Started:\\t\",start)\n",
        "print(cmd)\n",
        "os.system(cmd)\n",
        "end = datetime.datetime.now()\n",
        "print(\"Finished:\\t\",end)\n",
        "print(\"Time cose:\\t\",end-start)\n",
        "\n",
        "os.system(f'tar -czvf {output_dir}.tar.gz {output_dir}')\n",
        "files.download(f\"{output_dir}.tar.gz\")"
      ]
    }
  ],
  "metadata": {
    "colab": {
      "provenance": []
    },
    "kernelspec": {
      "display_name": "Python 3",
      "name": "python3"
    },
    "language_info": {
      "name": "python"
    }
  },
  "nbformat": 4,
  "nbformat_minor": 0
}
