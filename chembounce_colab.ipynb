{
  "nbformat": 4,
  "nbformat_minor": 0,
  "metadata": {
    "colab": {
      "provenance": [],
      "include_colab_link": true
    },
    "kernelspec": {
      "name": "python3",
      "display_name": "Python 3"
    },
    "language_info": {
      "name": "python"
    }
  },
  "cells": [
    {
      "cell_type": "markdown",
      "metadata": {
        "id": "view-in-github",
        "colab_type": "text"
      },
      "source": [
        "<a href=\"https://colab.research.google.com/github/jyryu3161/chembounce/blob/main/chembounce_colab.ipynb\" target=\"_parent\"><img src=\"https://colab.research.google.com/assets/colab-badge.svg\" alt=\"Open In Colab\"/></a>"
      ]
    },
    {
      "cell_type": "code",
      "source": [
        "#@title Anaconda installation\n",
        "# Conda installation\n",
        "import os\n",
        "conda_loc = \"/usr/local\"\n",
        "os.system(\"wget https://repo.anaconda.com/archive/Anaconda3-2024.02-1-Linux-x86_64.sh\")\n",
        "os.system(\"chmod +x Anaconda3-2024.02-1-Linux-x86_64.sh\")\n",
        "os.system(f\"bash ./Anaconda3-2024.02-1-Linux-x86_64.sh -b -f -p {conda_loc}\")"
      ],
      "metadata": {
        "colab": {
          "base_uri": "https://localhost:8080/"
        },
        "collapsed": true,
        "cellView": "form",
        "id": "WYfp-UjX5UH3",
        "outputId": "b98c5023-879e-4692-b38a-51bb85d70745"
      },
      "execution_count": null,
      "outputs": [
        {
          "output_type": "execute_result",
          "data": {
            "text/plain": [
              "0"
            ]
          },
          "metadata": {},
          "execution_count": 1
        }
      ]
    },
    {
      "cell_type": "code",
      "source": [
        "#@title Environment setting for Chembounce\n",
        "#@markdown This process takes apprx. 9mins\n",
        "import os\n",
        "import sys\n",
        "# git clone\n",
        "git_plf_n = 'chembounce'\n",
        "if not os.path.isdir(git_plf_n) and os.path.split(os.getcwd())[1] != git_plf_n:\n",
        "    print(\"Downloading git repository...\")\n",
        "    !git clone https://github.com/jyryu3161/chembounce.git\n",
        "if os.path.split(os.getcwd())[1] != git_plf_n:\n",
        "    os.chdir(git_plf_n)\n",
        "sys.path.append(os.path.abspath(\"./\"))\n",
        "# environment setting\n",
        "if not os.path.isfile(f'{conda_loc}/envs/chembounce/bin/python'):\n",
        "    print(\"Installing package dependencies...\")\n",
        "    os.system(f\"{conda_loc}/bin/conda env create -n chembounce -f ./environment.yml --quiet -y\")\n",
        "# !pip3 install -q --no-warn-conflicts scaffoldgraph==1.1.2 rdkit==2020.09.5 scipy pandas numpy oddt pubchempy molvs\n",
        "\n",
        "# Dataset\n",
        "data_installed=False\n",
        "if os.path.isdir('./data'):\n",
        "    if len(set(os.listdir('./data')) & set(['fragment_data.pickle','Scaffolds_processed.txt']))==2:\n",
        "        data_installed = True\n",
        "if not data_installed:\n",
        "    print(\"Downloading data...\")\n",
        "    os.system('bash install.sh')\n",
        "from google.colab import files"
      ],
      "metadata": {
        "colab": {
          "base_uri": "https://localhost:8080/"
        },
        "outputId": "5fd1fa45-5cfc-49fa-ccfe-6d68918ef960",
        "id": "Mr9kZRV4-5h8",
        "cellView": "form"
      },
      "execution_count": null,
      "outputs": [
        {
          "output_type": "stream",
          "name": "stdout",
          "text": [
            "Downloading git repository...\n",
            "Cloning into 'chembounce'...\n",
            "remote: Enumerating objects: 97, done.\u001b[K\n",
            "remote: Counting objects: 100% (97/97), done.\u001b[K\n",
            "remote: Compressing objects: 100% (63/63), done.\u001b[K\n",
            "remote: Total 97 (delta 48), reused 71 (delta 30), pack-reused 0\u001b[K\n",
            "Receiving objects: 100% (97/97), 389.70 KiB | 2.33 MiB/s, done.\n",
            "Resolving deltas: 100% (48/48), done.\n",
            "Installing package dependencies...\n",
            "Downloading data...\n"
          ]
        }
      ]
    },
    {
      "cell_type": "code",
      "source": [
        "#@title Input parameters {run:'auto'}\n",
        "#@markdown ##Structures\n",
        "#@markdown ####input_smiles\n",
        "#@markdown #####Input SMILES, the target molecular structure\n",
        "input_smiles=\"O=C(C)Oc1ccccc1C(=O)O\" #@param {type:'string'}\n",
        "\n",
        "#@markdown ####core_smiles (optional)\n",
        "#@markdown #####(Optional) Core SMILES which should not be altered while scaffold hopping\n",
        "core_smiles=\"C\" #@param {type:'string'}\n",
        "\n",
        "#@markdown ##Parameters\n",
        "#@markdown ####top_n\n",
        "#@markdown #####Number of top fragments to test\n",
        "top_n=10 #@param {type:'integer'}\n",
        "\n",
        "#@markdown ####threshold\n",
        "#@markdown #####Similarity threshold, between 0 and 1: used to exclude irrelated molecular structure, based on the similarity between the original structure and scaffold-hopped one. Default is 0.5\n",
        "threshold=0.5 #@param {type:'slider',min:0.0, max:1.0, step:0.01}\n",
        "\n",
        "#@markdown ####output_dir\n",
        "#@markdown #####Output location\n",
        "output_dir = './output' #@param {type:'string'}\n",
        "\n",
        "#@markdown ####low_mem\n",
        "#@markdown #####Low memory mode (recommended): Note that ordinary version requires at 55GB RAM, but less than 2GB RAM for low memory mode.\n",
        "low_mem=True #@param {type:'boolean'}\n",
        "\n",
        "\n",
        "os.makedirs(output_dir,exist_ok=True)\n",
        "if os.path.isfile(os.path.join(output_dir,'result.txt')):\n",
        "    print('Warning: A result file already exists')\n",
        "print(\n",
        "    f\"Input SMILES\\t:{input_smiles}\",\n",
        "    f\"\\nCore SMILES\\t:{core_smiles}\",\n",
        "    f\"\\nThreshold\\t:{threshold}\",\n",
        "    f\"\\nTop fragments\\t:{top_n}\",\n",
        "    f\"\\nLow memory mode\\t:{low_mem}\",\n",
        "    f\"\\nOutput location\\t:{os.path.abspath(output_dir)}\"\n",
        ")"
      ],
      "metadata": {
        "colab": {
          "base_uri": "https://localhost:8080/"
        },
        "id": "wROdpqgflhZn",
        "outputId": "4c22ff84-fbd6-4151-8373-782abcf573b9",
        "cellView": "form"
      },
      "execution_count": null,
      "outputs": [
        {
          "output_type": "stream",
          "name": "stdout",
          "text": [
            "Input SMILES\t:O=C(C)Oc1ccccc1C(=O)O \n",
            "Core SMILES\t:C \n",
            "Threshold\t:0.5 \n",
            "Top fragments\t:10 \n",
            "Low memory mode\t:True \n",
            "Output location\t:/content/chembounce/output\n"
          ]
        }
      ]
    },
    {
      "cell_type": "code",
      "source": [
        "#@title Run\n",
        "#@markdown Once this process is finished, the result will be downloaded : OUTPUT_DIR.tar.gz\n",
        "print(\n",
        "    f\"Input SMILES\\t:{input_smiles}\",\n",
        "    f\"\\nCore SMILES\\t:{core_smiles}\",\n",
        "    f\"\\nThreshold\\t:{threshold}\",\n",
        "    f\"\\nTop fragments\\t:{top_n}\",\n",
        "    f\"\\nLow memory mode\\t:{low_mem}\",\n",
        "    f\"\\nOutput location\\t:{os.path.abspath(output_dir)}\"\n",
        ")\n",
        "# command line\n",
        "cmd = \"/usr/local/envs/chembounce/bin/python chembounce.py -o %s -i \\\"%s\\\" -n %s -t %s -l\"\n",
        "cmd = cmd % (\n",
        "    os.path.abspath(output_dir),\n",
        "    input_smiles,\n",
        "    top_n,\n",
        "    threshold)\n",
        "if core_smiles:\n",
        "  cmd += f' -c \\\"{core_smiles}\\\"'\n",
        "print(cmd)\n",
        "os.system(cmd)\n",
        "# # In case to use the function as cell\n",
        "# import chembounce\n",
        "# result_df = chembounce.chembounce(\n",
        "#     target_smiles=input_smiles,\n",
        "#     fragments_DB=[],\n",
        "#     core_smiles=core_smiles,\n",
        "#     threshold=threshold,\n",
        "#     final_top_n=top_n,\n",
        "#     output_dir=output_dir,\n",
        "#     low_mem=low_mem,\n",
        "#     tqdm_quiet=True,\n",
        "#     )\n",
        "\n",
        "os.system(f'tar -czvf {output_dir}.tar.gz {output_dir}')\n",
        "files.download(f\"{output_dir}.tar.gz\")\n",
        "# files.download(os.path.join(output_dir,'result.txt'))"
      ],
      "metadata": {
        "id": "lMJqFHCBmfIm",
        "colab": {
          "base_uri": "https://localhost:8080/",
          "height": 146
        },
        "cellView": "form",
        "outputId": "9bb7caae-f492-4c1d-9e13-1e3acd83406c"
      },
      "execution_count": null,
      "outputs": [
        {
          "output_type": "stream",
          "name": "stdout",
          "text": [
            "Input SMILES\t:O=C(C)Oc1ccccc1C(=O)O \n",
            "Core SMILES\t:C \n",
            "Threshold\t:0.5 \n",
            "Top fragments\t:10 \n",
            "Low memory mode\t:True \n",
            "Output location\t:/content/chembounce/output\n",
            "/usr/local/envs/chembounce/bin/python chembounce.py -o /content/chembounce/output -i \"O=C(C)Oc1ccccc1C(=O)O\" -n 10 -t 0.5 -l -c \"C\"\n"
          ]
        },
        {
          "output_type": "display_data",
          "data": {
            "text/plain": [
              "<IPython.core.display.Javascript object>"
            ],
            "application/javascript": [
              "\n",
              "    async function download(id, filename, size) {\n",
              "      if (!google.colab.kernel.accessAllowed) {\n",
              "        return;\n",
              "      }\n",
              "      const div = document.createElement('div');\n",
              "      const label = document.createElement('label');\n",
              "      label.textContent = `Downloading \"${filename}\": `;\n",
              "      div.appendChild(label);\n",
              "      const progress = document.createElement('progress');\n",
              "      progress.max = size;\n",
              "      div.appendChild(progress);\n",
              "      document.body.appendChild(div);\n",
              "\n",
              "      const buffers = [];\n",
              "      let downloaded = 0;\n",
              "\n",
              "      const channel = await google.colab.kernel.comms.open(id);\n",
              "      // Send a message to notify the kernel that we're ready.\n",
              "      channel.send({})\n",
              "\n",
              "      for await (const message of channel.messages) {\n",
              "        // Send a message to notify the kernel that we're ready.\n",
              "        channel.send({})\n",
              "        if (message.buffers) {\n",
              "          for (const buffer of message.buffers) {\n",
              "            buffers.push(buffer);\n",
              "            downloaded += buffer.byteLength;\n",
              "            progress.value = downloaded;\n",
              "          }\n",
              "        }\n",
              "      }\n",
              "      const blob = new Blob(buffers, {type: 'application/binary'});\n",
              "      const a = document.createElement('a');\n",
              "      a.href = window.URL.createObjectURL(blob);\n",
              "      a.download = filename;\n",
              "      div.appendChild(a);\n",
              "      a.click();\n",
              "      div.remove();\n",
              "    }\n",
              "  "
            ]
          },
          "metadata": {}
        },
        {
          "output_type": "display_data",
          "data": {
            "text/plain": [
              "<IPython.core.display.Javascript object>"
            ],
            "application/javascript": [
              "download(\"download_e6c6254c-8560-42f1-bede-3957e66c6802\", \"output.tar.gz\", 1133)"
            ]
          },
          "metadata": {}
        }
      ]
    }
  ]
}